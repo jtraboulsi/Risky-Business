{
 "cells": [
  {
   "cell_type": "markdown",
   "metadata": {},
   "source": [
    "# Credit Risk Resampling Techniques"
   ]
  },
  {
   "cell_type": "markdown",
   "metadata": {},
   "source": [
    "## Initial Imports"
   ]
  },
  {
   "cell_type": "code",
   "execution_count": 1,
   "metadata": {},
   "outputs": [],
   "source": [
    "import warnings\n",
    "warnings.filterwarnings('ignore')"
   ]
  },
  {
   "cell_type": "code",
   "execution_count": 2,
   "metadata": {},
   "outputs": [],
   "source": [
    "import numpy as np\n",
    "import pandas as pd\n",
    "from pathlib import Path\n",
    "from sklearn.model_selection import train_test_split\n",
    "from sklearn.preprocessing import StandardScaler,LabelEncoder\n",
    "from sklearn.linear_model import LogisticRegression\n",
    "from imblearn.over_sampling import RandomOverSampler\n",
    "from imblearn.over_sampling import SMOTE\n",
    "from imblearn.combine import SMOTEENN\n",
    "from imblearn.under_sampling import ClusterCentroids\n",
    "from sklearn.metrics import balanced_accuracy_score\n",
    "from imblearn.metrics import classification_report_imbalanced\n",
    "from sklearn.metrics import confusion_matrix\n",
    "from collections import Counter"
   ]
  },
  {
   "cell_type": "markdown",
   "metadata": {},
   "source": [
    "# Read the CSV into DataFrame"
   ]
  },
  {
   "cell_type": "code",
   "execution_count": 3,
   "metadata": {},
   "outputs": [
    {
     "data": {
      "text/html": [
       "<div>\n",
       "<style scoped>\n",
       "    .dataframe tbody tr th:only-of-type {\n",
       "        vertical-align: middle;\n",
       "    }\n",
       "\n",
       "    .dataframe tbody tr th {\n",
       "        vertical-align: top;\n",
       "    }\n",
       "\n",
       "    .dataframe thead th {\n",
       "        text-align: right;\n",
       "    }\n",
       "</style>\n",
       "<table border=\"1\" class=\"dataframe\">\n",
       "  <thead>\n",
       "    <tr style=\"text-align: right;\">\n",
       "      <th></th>\n",
       "      <th>loan_size</th>\n",
       "      <th>interest_rate</th>\n",
       "      <th>homeowner</th>\n",
       "      <th>borrower_income</th>\n",
       "      <th>debt_to_income</th>\n",
       "      <th>num_of_accounts</th>\n",
       "      <th>derogatory_marks</th>\n",
       "      <th>total_debt</th>\n",
       "      <th>loan_status</th>\n",
       "    </tr>\n",
       "  </thead>\n",
       "  <tbody>\n",
       "    <tr>\n",
       "      <th>0</th>\n",
       "      <td>10700.0</td>\n",
       "      <td>7.672</td>\n",
       "      <td>own</td>\n",
       "      <td>52800</td>\n",
       "      <td>0.431818</td>\n",
       "      <td>5</td>\n",
       "      <td>1</td>\n",
       "      <td>22800</td>\n",
       "      <td>low_risk</td>\n",
       "    </tr>\n",
       "    <tr>\n",
       "      <th>1</th>\n",
       "      <td>8400.0</td>\n",
       "      <td>6.692</td>\n",
       "      <td>own</td>\n",
       "      <td>43600</td>\n",
       "      <td>0.311927</td>\n",
       "      <td>3</td>\n",
       "      <td>0</td>\n",
       "      <td>13600</td>\n",
       "      <td>low_risk</td>\n",
       "    </tr>\n",
       "    <tr>\n",
       "      <th>2</th>\n",
       "      <td>9000.0</td>\n",
       "      <td>6.963</td>\n",
       "      <td>rent</td>\n",
       "      <td>46100</td>\n",
       "      <td>0.349241</td>\n",
       "      <td>3</td>\n",
       "      <td>0</td>\n",
       "      <td>16100</td>\n",
       "      <td>low_risk</td>\n",
       "    </tr>\n",
       "    <tr>\n",
       "      <th>3</th>\n",
       "      <td>10700.0</td>\n",
       "      <td>7.664</td>\n",
       "      <td>own</td>\n",
       "      <td>52700</td>\n",
       "      <td>0.430740</td>\n",
       "      <td>5</td>\n",
       "      <td>1</td>\n",
       "      <td>22700</td>\n",
       "      <td>low_risk</td>\n",
       "    </tr>\n",
       "    <tr>\n",
       "      <th>4</th>\n",
       "      <td>10800.0</td>\n",
       "      <td>7.698</td>\n",
       "      <td>mortgage</td>\n",
       "      <td>53000</td>\n",
       "      <td>0.433962</td>\n",
       "      <td>5</td>\n",
       "      <td>1</td>\n",
       "      <td>23000</td>\n",
       "      <td>low_risk</td>\n",
       "    </tr>\n",
       "  </tbody>\n",
       "</table>\n",
       "</div>"
      ],
      "text/plain": [
       "   loan_size  interest_rate homeowner  borrower_income  debt_to_income  \\\n",
       "0    10700.0          7.672       own            52800        0.431818   \n",
       "1     8400.0          6.692       own            43600        0.311927   \n",
       "2     9000.0          6.963      rent            46100        0.349241   \n",
       "3    10700.0          7.664       own            52700        0.430740   \n",
       "4    10800.0          7.698  mortgage            53000        0.433962   \n",
       "\n",
       "   num_of_accounts  derogatory_marks  total_debt loan_status  \n",
       "0                5                 1       22800    low_risk  \n",
       "1                3                 0       13600    low_risk  \n",
       "2                3                 0       16100    low_risk  \n",
       "3                5                 1       22700    low_risk  \n",
       "4                5                 1       23000    low_risk  "
      ]
     },
     "execution_count": 3,
     "metadata": {},
     "output_type": "execute_result"
    }
   ],
   "source": [
    "file_path = Path('Resources/lending_data.csv')\n",
    "\n",
    "df = pd.read_csv(file_path)\n",
    "\n",
    "df.head()"
   ]
  },
  {
   "cell_type": "markdown",
   "metadata": {},
   "source": [
    "# Split the Data into Training and Testing"
   ]
  },
  {
   "cell_type": "markdown",
   "metadata": {},
   "source": [
    "We need to split our dataset to distinguish our features from our target variable"
   ]
  },
  {
   "cell_type": "code",
   "execution_count": 4,
   "metadata": {},
   "outputs": [],
   "source": [
    "X = df.drop(columns=\"loan_status\")\n",
    "\n",
    "y = df[\"loan_status\"]"
   ]
  },
  {
   "cell_type": "code",
   "execution_count": 5,
   "metadata": {},
   "outputs": [
    {
     "data": {
      "text/html": [
       "<div>\n",
       "<style scoped>\n",
       "    .dataframe tbody tr th:only-of-type {\n",
       "        vertical-align: middle;\n",
       "    }\n",
       "\n",
       "    .dataframe tbody tr th {\n",
       "        vertical-align: top;\n",
       "    }\n",
       "\n",
       "    .dataframe thead th {\n",
       "        text-align: right;\n",
       "    }\n",
       "</style>\n",
       "<table border=\"1\" class=\"dataframe\">\n",
       "  <thead>\n",
       "    <tr style=\"text-align: right;\">\n",
       "      <th></th>\n",
       "      <th>loan_size</th>\n",
       "      <th>interest_rate</th>\n",
       "      <th>borrower_income</th>\n",
       "      <th>debt_to_income</th>\n",
       "      <th>num_of_accounts</th>\n",
       "      <th>derogatory_marks</th>\n",
       "      <th>total_debt</th>\n",
       "    </tr>\n",
       "  </thead>\n",
       "  <tbody>\n",
       "    <tr>\n",
       "      <th>count</th>\n",
       "      <td>77536.000000</td>\n",
       "      <td>77536.000000</td>\n",
       "      <td>77536.000000</td>\n",
       "      <td>77536.000000</td>\n",
       "      <td>77536.000000</td>\n",
       "      <td>77536.000000</td>\n",
       "      <td>77536.000000</td>\n",
       "    </tr>\n",
       "    <tr>\n",
       "      <th>mean</th>\n",
       "      <td>9805.562577</td>\n",
       "      <td>7.292333</td>\n",
       "      <td>49221.949804</td>\n",
       "      <td>0.377318</td>\n",
       "      <td>3.826610</td>\n",
       "      <td>0.392308</td>\n",
       "      <td>19221.949804</td>\n",
       "    </tr>\n",
       "    <tr>\n",
       "      <th>std</th>\n",
       "      <td>2093.223153</td>\n",
       "      <td>0.889495</td>\n",
       "      <td>8371.635077</td>\n",
       "      <td>0.081519</td>\n",
       "      <td>1.904426</td>\n",
       "      <td>0.582086</td>\n",
       "      <td>8371.635077</td>\n",
       "    </tr>\n",
       "    <tr>\n",
       "      <th>min</th>\n",
       "      <td>5000.000000</td>\n",
       "      <td>5.250000</td>\n",
       "      <td>30000.000000</td>\n",
       "      <td>0.000000</td>\n",
       "      <td>0.000000</td>\n",
       "      <td>0.000000</td>\n",
       "      <td>0.000000</td>\n",
       "    </tr>\n",
       "    <tr>\n",
       "      <th>25%</th>\n",
       "      <td>8700.000000</td>\n",
       "      <td>6.825000</td>\n",
       "      <td>44800.000000</td>\n",
       "      <td>0.330357</td>\n",
       "      <td>3.000000</td>\n",
       "      <td>0.000000</td>\n",
       "      <td>14800.000000</td>\n",
       "    </tr>\n",
       "    <tr>\n",
       "      <th>50%</th>\n",
       "      <td>9500.000000</td>\n",
       "      <td>7.172000</td>\n",
       "      <td>48100.000000</td>\n",
       "      <td>0.376299</td>\n",
       "      <td>4.000000</td>\n",
       "      <td>0.000000</td>\n",
       "      <td>18100.000000</td>\n",
       "    </tr>\n",
       "    <tr>\n",
       "      <th>75%</th>\n",
       "      <td>10400.000000</td>\n",
       "      <td>7.528000</td>\n",
       "      <td>51400.000000</td>\n",
       "      <td>0.416342</td>\n",
       "      <td>4.000000</td>\n",
       "      <td>1.000000</td>\n",
       "      <td>21400.000000</td>\n",
       "    </tr>\n",
       "    <tr>\n",
       "      <th>max</th>\n",
       "      <td>23800.000000</td>\n",
       "      <td>13.235000</td>\n",
       "      <td>105200.000000</td>\n",
       "      <td>0.714829</td>\n",
       "      <td>16.000000</td>\n",
       "      <td>3.000000</td>\n",
       "      <td>75200.000000</td>\n",
       "    </tr>\n",
       "  </tbody>\n",
       "</table>\n",
       "</div>"
      ],
      "text/plain": [
       "          loan_size  interest_rate  borrower_income  debt_to_income  \\\n",
       "count  77536.000000   77536.000000     77536.000000    77536.000000   \n",
       "mean    9805.562577       7.292333     49221.949804        0.377318   \n",
       "std     2093.223153       0.889495      8371.635077        0.081519   \n",
       "min     5000.000000       5.250000     30000.000000        0.000000   \n",
       "25%     8700.000000       6.825000     44800.000000        0.330357   \n",
       "50%     9500.000000       7.172000     48100.000000        0.376299   \n",
       "75%    10400.000000       7.528000     51400.000000        0.416342   \n",
       "max    23800.000000      13.235000    105200.000000        0.714829   \n",
       "\n",
       "       num_of_accounts  derogatory_marks    total_debt  \n",
       "count     77536.000000      77536.000000  77536.000000  \n",
       "mean          3.826610          0.392308  19221.949804  \n",
       "std           1.904426          0.582086   8371.635077  \n",
       "min           0.000000          0.000000      0.000000  \n",
       "25%           3.000000          0.000000  14800.000000  \n",
       "50%           4.000000          0.000000  18100.000000  \n",
       "75%           4.000000          1.000000  21400.000000  \n",
       "max          16.000000          3.000000  75200.000000  "
      ]
     },
     "execution_count": 5,
     "metadata": {},
     "output_type": "execute_result"
    }
   ],
   "source": [
    "X.describe()"
   ]
  },
  {
   "cell_type": "markdown",
   "metadata": {},
   "source": [
    "Checking the balance of our target values - not quite balanced!"
   ]
  },
  {
   "cell_type": "code",
   "execution_count": 38,
   "metadata": {},
   "outputs": [
    {
     "data": {
      "text/plain": [
       "low_risk     75036\n",
       "high_risk     2500\n",
       "Name: loan_status, dtype: int64"
      ]
     },
     "execution_count": 38,
     "metadata": {},
     "output_type": "execute_result"
    }
   ],
   "source": [
    "y.value_counts()"
   ]
  },
  {
   "cell_type": "markdown",
   "metadata": {},
   "source": [
    "Splitting the data observations into four subsets: X_train, X_test, y_train, y_test"
   ]
  },
  {
   "cell_type": "code",
   "execution_count": 39,
   "metadata": {},
   "outputs": [
    {
     "data": {
      "text/html": [
       "<div>\n",
       "<style scoped>\n",
       "    .dataframe tbody tr th:only-of-type {\n",
       "        vertical-align: middle;\n",
       "    }\n",
       "\n",
       "    .dataframe tbody tr th {\n",
       "        vertical-align: top;\n",
       "    }\n",
       "\n",
       "    .dataframe thead th {\n",
       "        text-align: right;\n",
       "    }\n",
       "</style>\n",
       "<table border=\"1\" class=\"dataframe\">\n",
       "  <thead>\n",
       "    <tr style=\"text-align: right;\">\n",
       "      <th></th>\n",
       "      <th>loan_size</th>\n",
       "      <th>interest_rate</th>\n",
       "      <th>homeowner</th>\n",
       "      <th>borrower_income</th>\n",
       "      <th>debt_to_income</th>\n",
       "      <th>num_of_accounts</th>\n",
       "      <th>derogatory_marks</th>\n",
       "      <th>total_debt</th>\n",
       "    </tr>\n",
       "  </thead>\n",
       "  <tbody>\n",
       "    <tr>\n",
       "      <th>25729</th>\n",
       "      <td>10100.0</td>\n",
       "      <td>7.402</td>\n",
       "      <td>mortgage</td>\n",
       "      <td>50300</td>\n",
       "      <td>0.403579</td>\n",
       "      <td>4</td>\n",
       "      <td>1</td>\n",
       "      <td>20300</td>\n",
       "    </tr>\n",
       "    <tr>\n",
       "      <th>20176</th>\n",
       "      <td>9200.0</td>\n",
       "      <td>7.049</td>\n",
       "      <td>mortgage</td>\n",
       "      <td>46900</td>\n",
       "      <td>0.360341</td>\n",
       "      <td>3</td>\n",
       "      <td>0</td>\n",
       "      <td>16900</td>\n",
       "    </tr>\n",
       "    <tr>\n",
       "      <th>55080</th>\n",
       "      <td>8800.0</td>\n",
       "      <td>6.870</td>\n",
       "      <td>mortgage</td>\n",
       "      <td>45200</td>\n",
       "      <td>0.336283</td>\n",
       "      <td>3</td>\n",
       "      <td>0</td>\n",
       "      <td>15200</td>\n",
       "    </tr>\n",
       "    <tr>\n",
       "      <th>10410</th>\n",
       "      <td>8900.0</td>\n",
       "      <td>6.919</td>\n",
       "      <td>mortgage</td>\n",
       "      <td>45700</td>\n",
       "      <td>0.343545</td>\n",
       "      <td>3</td>\n",
       "      <td>0</td>\n",
       "      <td>15700</td>\n",
       "    </tr>\n",
       "    <tr>\n",
       "      <th>63110</th>\n",
       "      <td>8500.0</td>\n",
       "      <td>6.731</td>\n",
       "      <td>own</td>\n",
       "      <td>43900</td>\n",
       "      <td>0.316629</td>\n",
       "      <td>3</td>\n",
       "      <td>0</td>\n",
       "      <td>13900</td>\n",
       "    </tr>\n",
       "  </tbody>\n",
       "</table>\n",
       "</div>"
      ],
      "text/plain": [
       "       loan_size  interest_rate homeowner  borrower_income  debt_to_income  \\\n",
       "25729    10100.0          7.402  mortgage            50300        0.403579   \n",
       "20176     9200.0          7.049  mortgage            46900        0.360341   \n",
       "55080     8800.0          6.870  mortgage            45200        0.336283   \n",
       "10410     8900.0          6.919  mortgage            45700        0.343545   \n",
       "63110     8500.0          6.731       own            43900        0.316629   \n",
       "\n",
       "       num_of_accounts  derogatory_marks  total_debt  \n",
       "25729                4                 1       20300  \n",
       "20176                3                 0       16900  \n",
       "55080                3                 0       15200  \n",
       "10410                3                 0       15700  \n",
       "63110                3                 0       13900  "
      ]
     },
     "execution_count": 39,
     "metadata": {},
     "output_type": "execute_result"
    }
   ],
   "source": [
    "X_train, X_test, y_train, y_test = train_test_split(X, \n",
    "                                                    y, \n",
    "                                                    random_state=1, \n",
    "                                                    stratify=y)\n",
    "\n",
    "X_train.head()"
   ]
  },
  {
   "cell_type": "markdown",
   "metadata": {},
   "source": [
    "## Data Pre-Processing"
   ]
  },
  {
   "cell_type": "markdown",
   "metadata": {},
   "source": [
    "Let's find the text labels in our data set and encode them as integers"
   ]
  },
  {
   "cell_type": "code",
   "execution_count": 8,
   "metadata": {},
   "outputs": [],
   "source": [
    "label_encoder = LabelEncoder()"
   ]
  },
  {
   "cell_type": "code",
   "execution_count": 9,
   "metadata": {},
   "outputs": [
    {
     "name": "stdout",
     "output_type": "stream",
     "text": [
      "['mortgage' 'own' 'rent']\n"
     ]
    }
   ],
   "source": [
    "label_encoder.fit(X_train['homeowner'])\n",
    "\n",
    "print(label_encoder.classes_)"
   ]
  },
  {
   "cell_type": "code",
   "execution_count": 40,
   "metadata": {},
   "outputs": [
    {
     "data": {
      "text/html": [
       "<div>\n",
       "<style scoped>\n",
       "    .dataframe tbody tr th:only-of-type {\n",
       "        vertical-align: middle;\n",
       "    }\n",
       "\n",
       "    .dataframe tbody tr th {\n",
       "        vertical-align: top;\n",
       "    }\n",
       "\n",
       "    .dataframe thead th {\n",
       "        text-align: right;\n",
       "    }\n",
       "</style>\n",
       "<table border=\"1\" class=\"dataframe\">\n",
       "  <thead>\n",
       "    <tr style=\"text-align: right;\">\n",
       "      <th></th>\n",
       "      <th>loan_size</th>\n",
       "      <th>interest_rate</th>\n",
       "      <th>borrower_income</th>\n",
       "      <th>debt_to_income</th>\n",
       "      <th>num_of_accounts</th>\n",
       "      <th>derogatory_marks</th>\n",
       "      <th>total_debt</th>\n",
       "      <th>homeowner encoded</th>\n",
       "    </tr>\n",
       "  </thead>\n",
       "  <tbody>\n",
       "    <tr>\n",
       "      <th>25729</th>\n",
       "      <td>10100.0</td>\n",
       "      <td>7.402</td>\n",
       "      <td>50300</td>\n",
       "      <td>0.403579</td>\n",
       "      <td>4</td>\n",
       "      <td>1</td>\n",
       "      <td>20300</td>\n",
       "      <td>0</td>\n",
       "    </tr>\n",
       "    <tr>\n",
       "      <th>20176</th>\n",
       "      <td>9200.0</td>\n",
       "      <td>7.049</td>\n",
       "      <td>46900</td>\n",
       "      <td>0.360341</td>\n",
       "      <td>3</td>\n",
       "      <td>0</td>\n",
       "      <td>16900</td>\n",
       "      <td>0</td>\n",
       "    </tr>\n",
       "    <tr>\n",
       "      <th>55080</th>\n",
       "      <td>8800.0</td>\n",
       "      <td>6.870</td>\n",
       "      <td>45200</td>\n",
       "      <td>0.336283</td>\n",
       "      <td>3</td>\n",
       "      <td>0</td>\n",
       "      <td>15200</td>\n",
       "      <td>0</td>\n",
       "    </tr>\n",
       "    <tr>\n",
       "      <th>10410</th>\n",
       "      <td>8900.0</td>\n",
       "      <td>6.919</td>\n",
       "      <td>45700</td>\n",
       "      <td>0.343545</td>\n",
       "      <td>3</td>\n",
       "      <td>0</td>\n",
       "      <td>15700</td>\n",
       "      <td>0</td>\n",
       "    </tr>\n",
       "    <tr>\n",
       "      <th>63110</th>\n",
       "      <td>8500.0</td>\n",
       "      <td>6.731</td>\n",
       "      <td>43900</td>\n",
       "      <td>0.316629</td>\n",
       "      <td>3</td>\n",
       "      <td>0</td>\n",
       "      <td>13900</td>\n",
       "      <td>1</td>\n",
       "    </tr>\n",
       "  </tbody>\n",
       "</table>\n",
       "</div>"
      ],
      "text/plain": [
       "       loan_size  interest_rate  borrower_income  debt_to_income  \\\n",
       "25729    10100.0          7.402            50300        0.403579   \n",
       "20176     9200.0          7.049            46900        0.360341   \n",
       "55080     8800.0          6.870            45200        0.336283   \n",
       "10410     8900.0          6.919            45700        0.343545   \n",
       "63110     8500.0          6.731            43900        0.316629   \n",
       "\n",
       "       num_of_accounts  derogatory_marks  total_debt  homeowner encoded  \n",
       "25729                4                 1       20300                  0  \n",
       "20176                3                 0       16900                  0  \n",
       "55080                3                 0       15200                  0  \n",
       "10410                3                 0       15700                  0  \n",
       "63110                3                 0       13900                  1  "
      ]
     },
     "metadata": {},
     "output_type": "display_data"
    },
    {
     "data": {
      "text/html": [
       "<div>\n",
       "<style scoped>\n",
       "    .dataframe tbody tr th:only-of-type {\n",
       "        vertical-align: middle;\n",
       "    }\n",
       "\n",
       "    .dataframe tbody tr th {\n",
       "        vertical-align: top;\n",
       "    }\n",
       "\n",
       "    .dataframe thead th {\n",
       "        text-align: right;\n",
       "    }\n",
       "</style>\n",
       "<table border=\"1\" class=\"dataframe\">\n",
       "  <thead>\n",
       "    <tr style=\"text-align: right;\">\n",
       "      <th></th>\n",
       "      <th>loan_size</th>\n",
       "      <th>interest_rate</th>\n",
       "      <th>borrower_income</th>\n",
       "      <th>debt_to_income</th>\n",
       "      <th>num_of_accounts</th>\n",
       "      <th>derogatory_marks</th>\n",
       "      <th>total_debt</th>\n",
       "      <th>homeowner encoded</th>\n",
       "    </tr>\n",
       "  </thead>\n",
       "  <tbody>\n",
       "    <tr>\n",
       "      <th>37214</th>\n",
       "      <td>11500.0</td>\n",
       "      <td>8.017</td>\n",
       "      <td>56000</td>\n",
       "      <td>0.464286</td>\n",
       "      <td>5</td>\n",
       "      <td>1</td>\n",
       "      <td>26000</td>\n",
       "      <td>1</td>\n",
       "    </tr>\n",
       "    <tr>\n",
       "      <th>2791</th>\n",
       "      <td>9700.0</td>\n",
       "      <td>7.227</td>\n",
       "      <td>48600</td>\n",
       "      <td>0.382716</td>\n",
       "      <td>4</td>\n",
       "      <td>0</td>\n",
       "      <td>18600</td>\n",
       "      <td>0</td>\n",
       "    </tr>\n",
       "    <tr>\n",
       "      <th>75901</th>\n",
       "      <td>16900.0</td>\n",
       "      <td>10.312</td>\n",
       "      <td>77600</td>\n",
       "      <td>0.613402</td>\n",
       "      <td>10</td>\n",
       "      <td>2</td>\n",
       "      <td>47600</td>\n",
       "      <td>1</td>\n",
       "    </tr>\n",
       "    <tr>\n",
       "      <th>70752</th>\n",
       "      <td>10600.0</td>\n",
       "      <td>7.632</td>\n",
       "      <td>52400</td>\n",
       "      <td>0.427481</td>\n",
       "      <td>5</td>\n",
       "      <td>1</td>\n",
       "      <td>22400</td>\n",
       "      <td>0</td>\n",
       "    </tr>\n",
       "    <tr>\n",
       "      <th>54071</th>\n",
       "      <td>11300.0</td>\n",
       "      <td>7.936</td>\n",
       "      <td>55300</td>\n",
       "      <td>0.457505</td>\n",
       "      <td>5</td>\n",
       "      <td>1</td>\n",
       "      <td>25300</td>\n",
       "      <td>0</td>\n",
       "    </tr>\n",
       "  </tbody>\n",
       "</table>\n",
       "</div>"
      ],
      "text/plain": [
       "       loan_size  interest_rate  borrower_income  debt_to_income  \\\n",
       "37214    11500.0          8.017            56000        0.464286   \n",
       "2791      9700.0          7.227            48600        0.382716   \n",
       "75901    16900.0         10.312            77600        0.613402   \n",
       "70752    10600.0          7.632            52400        0.427481   \n",
       "54071    11300.0          7.936            55300        0.457505   \n",
       "\n",
       "       num_of_accounts  derogatory_marks  total_debt  homeowner encoded  \n",
       "37214                5                 1       26000                  1  \n",
       "2791                 4                 0       18600                  0  \n",
       "75901               10                 2       47600                  1  \n",
       "70752                5                 1       22400                  0  \n",
       "54071                5                 1       25300                  0  "
      ]
     },
     "metadata": {},
     "output_type": "display_data"
    }
   ],
   "source": [
    "X_train['homeowner encoded'] = label_encoder.transform(X_train['homeowner'])\n",
    "\n",
    "\"\"\"The labels are the same in the test data set so we can use the same LabelEncoder object we fitted our train dataset to\"\"\"\n",
    "X_test['homeowner encoded'] =label_encoder.transform(X_test['homeowner'])\n",
    "\n",
    "X_train.drop(columns='homeowner', inplace=True)\n",
    "\n",
    "X_test.drop(columns='homeowner', inplace=True)\n",
    "\n",
    "display(X_train.head())\n",
    "display(X_test.head())"
   ]
  },
  {
   "cell_type": "markdown",
   "metadata": {},
   "source": [
    "Let's proceed with scaling our data set now that it's been transformed all to integers"
   ]
  },
  {
   "cell_type": "code",
   "execution_count": 11,
   "metadata": {},
   "outputs": [],
   "source": [
    "data_scaler = StandardScaler()"
   ]
  },
  {
   "cell_type": "code",
   "execution_count": 12,
   "metadata": {},
   "outputs": [
    {
     "data": {
      "text/plain": [
       "StandardScaler()"
      ]
     },
     "execution_count": 12,
     "metadata": {},
     "output_type": "execute_result"
    }
   ],
   "source": [
    "data_scaler.fit(X_train)"
   ]
  },
  {
   "cell_type": "code",
   "execution_count": 13,
   "metadata": {},
   "outputs": [
    {
     "name": "stdout",
     "output_type": "stream",
     "text": [
      "Standardized training data set\n",
      "[[ 0.14045627  0.1230916   0.12859477  0.32187276  0.09115188  1.04495557\n",
      "   0.12859477 -0.90997878]\n",
      " [-0.28969527 -0.27393966 -0.27772578 -0.20875028 -0.43434275 -0.67471435\n",
      "  -0.27772578 -0.90997878]\n",
      " [-0.48087373 -0.47526712 -0.48088605 -0.50399739 -0.43434275 -0.67471435\n",
      "  -0.48088605 -0.90997878]\n",
      " [-0.43307912 -0.42015513 -0.42113303 -0.41487981 -0.43434275 -0.67471435\n",
      "  -0.42113303 -0.90997878]\n",
      " [-0.62425758 -0.63160521 -0.63624391 -0.74520356 -0.43434275 -0.67471435\n",
      "  -0.63624391  0.59151332]]\n",
      "\n",
      "Standardized testing data set\n",
      "[[ 0.80958089  0.81480327  0.80977921  1.06689092  0.61664652  1.04495557\n",
      "   0.80977921  0.59151332]\n",
      " [-0.05072219 -0.07373693 -0.07456551  0.06584169  0.09115188 -0.67471435\n",
      "  -0.07456551 -0.90997878]\n",
      " [ 3.39049014  3.39606878  3.39110974  2.89689483  3.24411968  2.76462549\n",
      "   3.39110974  0.59151332]\n",
      " [ 0.37942935  0.38178051  0.37955746  0.61521057  0.61664652  1.04495557\n",
      "   0.37955746 -0.90997878]\n",
      " [ 0.71399166  0.72369978  0.72612498  0.98366993  0.61664652  1.04495557\n",
      "   0.72612498 -0.90997878]]\n"
     ]
    }
   ],
   "source": [
    "loans_data_scaled = data_scaler.transform(X_train)\n",
    "\n",
    "loans_data_scaled_test = data_scaler.transform(X_test)\n",
    "\n",
    "print(f\"Standardized training data set\")\n",
    "print(loans_data_scaled[:5])\n",
    "print()\n",
    "print(f\"Standardized testing data set\")\n",
    "print(loans_data_scaled_test[:5])"
   ]
  },
  {
   "cell_type": "markdown",
   "metadata": {},
   "source": [
    "# Simple Logistic Regression\n",
    "\n",
    "Let's instantiate our first logistic model and used an unaltered dataset to make predictions"
   ]
  },
  {
   "cell_type": "code",
   "execution_count": 42,
   "metadata": {},
   "outputs": [
    {
     "data": {
      "text/plain": [
       "LogisticRegression(random_state=1)"
      ]
     },
     "execution_count": 42,
     "metadata": {},
     "output_type": "execute_result"
    }
   ],
   "source": [
    "model = LogisticRegression(solver='lbfgs', random_state=1)\n",
    "\n",
    "model.fit(X_train, y_train)"
   ]
  },
  {
   "cell_type": "markdown",
   "metadata": {},
   "source": [
    "### Performance metrics\n",
    "\n",
    "Balanced accuracy score"
   ]
  },
  {
   "cell_type": "code",
   "execution_count": 45,
   "metadata": {},
   "outputs": [
    {
     "data": {
      "text/plain": [
       "0.9543211898288821"
      ]
     },
     "execution_count": 45,
     "metadata": {},
     "output_type": "execute_result"
    }
   ],
   "source": [
    "y_pred = model.predict(X_test)\n",
    "\n",
    "balanced_accuracy_score(y_test, y_pred)"
   ]
  },
  {
   "cell_type": "markdown",
   "metadata": {},
   "source": [
    "Confusion matrix"
   ]
  },
  {
   "cell_type": "code",
   "execution_count": 51,
   "metadata": {},
   "outputs": [
    {
     "data": {
      "text/plain": [
       "array([[  571,    54],\n",
       "       [   93, 18666]], dtype=int64)"
      ]
     },
     "execution_count": 51,
     "metadata": {},
     "output_type": "execute_result"
    }
   ],
   "source": [
    "confusion_matrix(y_test, y_pred)"
   ]
  },
  {
   "cell_type": "markdown",
   "metadata": {},
   "source": [
    "Imbalanced classification report"
   ]
  },
  {
   "cell_type": "code",
   "execution_count": 52,
   "metadata": {},
   "outputs": [
    {
     "name": "stdout",
     "output_type": "stream",
     "text": [
      "                   pre       rec       spe        f1       geo       iba       sup\n",
      "\n",
      "  high_risk       0.86      0.91      1.00      0.89      0.95      0.90       625\n",
      "   low_risk       1.00      1.00      0.91      1.00      0.95      0.92     18759\n",
      "\n",
      "avg / total       0.99      0.99      0.92      0.99      0.95      0.92     19384\n",
      "\n"
     ]
    }
   ],
   "source": [
    "print(classification_report_imbalanced(y_test, y_pred))"
   ]
  },
  {
   "cell_type": "markdown",
   "metadata": {},
   "source": [
    "# Oversampling\n",
    "\n",
    "In this section, we will compare two oversampling algorithms to determine which algorithm results in the best performance. "
   ]
  },
  {
   "cell_type": "markdown",
   "metadata": {},
   "source": [
    "### Naive Random Oversampling"
   ]
  },
  {
   "cell_type": "code",
   "execution_count": 53,
   "metadata": {},
   "outputs": [],
   "source": [
    "ros = RandomOverSampler(random_state=3)\n",
    "\n",
    "X_resampled_ros, y_resampled_ros = ros.fit_resample(X_train, y_train)\n",
    "\n"
   ]
  },
  {
   "cell_type": "markdown",
   "metadata": {},
   "source": [
    "Let's check the balance in our target values - now this is a  balanced set!"
   ]
  },
  {
   "cell_type": "code",
   "execution_count": 54,
   "metadata": {},
   "outputs": [
    {
     "data": {
      "text/plain": [
       "Counter({'low_risk': 56277, 'high_risk': 56277})"
      ]
     },
     "execution_count": 54,
     "metadata": {},
     "output_type": "execute_result"
    }
   ],
   "source": [
    "Counter(y_resampled_ros)"
   ]
  },
  {
   "cell_type": "markdown",
   "metadata": {},
   "source": [
    "Let's create and train a logistric regression model with our new **randomly oversampled** training data set"
   ]
  },
  {
   "cell_type": "code",
   "execution_count": 50,
   "metadata": {},
   "outputs": [],
   "source": [
    "model_ros = LogisticRegression(solver='lbfgs', random_state=3)\n",
    "\n",
    "model_ros.fit(X_resampled_ros, y_resampled_ros)\n",
    "\n",
    "y_pred_ros = model_ros.predict(X_test)"
   ]
  },
  {
   "cell_type": "code",
   "execution_count": 20,
   "metadata": {},
   "outputs": [
    {
     "data": {
      "text/plain": [
       "0.9948279972279972"
      ]
     },
     "execution_count": 20,
     "metadata": {},
     "output_type": "execute_result"
    }
   ],
   "source": [
    "\n"
   ]
  },
  {
   "cell_type": "markdown",
   "metadata": {},
   "source": [
    "### Performance metrics\n",
    "\n",
    "Balanced accuracy score"
   ]
  },
  {
   "cell_type": "code",
   "execution_count": 63,
   "metadata": {},
   "outputs": [
    {
     "data": {
      "text/plain": [
       "0.9948279972279972"
      ]
     },
     "execution_count": 63,
     "metadata": {},
     "output_type": "execute_result"
    }
   ],
   "source": [
    "balanced_accuracy_score(y_test, y_pred_ros)"
   ]
  },
  {
   "cell_type": "markdown",
   "metadata": {},
   "source": [
    "Confusion matrix"
   ]
  },
  {
   "cell_type": "code",
   "execution_count": 64,
   "metadata": {},
   "outputs": [
    {
     "data": {
      "text/plain": [
       "array([[  622,     3],\n",
       "       [  104, 18655]], dtype=int64)"
      ]
     },
     "execution_count": 64,
     "metadata": {},
     "output_type": "execute_result"
    }
   ],
   "source": [
    "confusion_matrix(y_test, y_pred_ros)"
   ]
  },
  {
   "cell_type": "markdown",
   "metadata": {},
   "source": [
    "\n",
    "Imbalanced classification report"
   ]
  },
  {
   "cell_type": "code",
   "execution_count": 65,
   "metadata": {},
   "outputs": [
    {
     "name": "stdout",
     "output_type": "stream",
     "text": [
      "                   pre       rec       spe        f1       geo       iba       sup\n",
      "\n",
      "  high_risk       0.86      1.00      0.99      0.92      0.99      0.99       625\n",
      "   low_risk       1.00      0.99      1.00      1.00      0.99      0.99     18759\n",
      "\n",
      "avg / total       1.00      0.99      1.00      0.99      0.99      0.99     19384\n",
      "\n"
     ]
    }
   ],
   "source": [
    "\n",
    "print(classification_report_imbalanced(y_test, y_pred_ros))"
   ]
  },
  {
   "cell_type": "markdown",
   "metadata": {},
   "source": [
    "### SMOTE Oversampling\n",
    "\n",
    "Resampling the training data with SMOTE"
   ]
  },
  {
   "cell_type": "code",
   "execution_count": 59,
   "metadata": {},
   "outputs": [
    {
     "data": {
      "text/plain": [
       "Counter({'low_risk': 56277, 'high_risk': 56277})"
      ]
     },
     "execution_count": 59,
     "metadata": {},
     "output_type": "execute_result"
    }
   ],
   "source": [
    "X_resampled_smote, y_resampled_smote = SMOTE(random_state=4, sampling_strategy=1.0).fit_resample(\n",
    "    X_train, y_train)\n",
    "\n",
    "Counter(y_resampled_smote)"
   ]
  },
  {
   "cell_type": "markdown",
   "metadata": {},
   "source": [
    "Let's train our Logistic Regression model using the SMOTE resampled data"
   ]
  },
  {
   "cell_type": "code",
   "execution_count": 68,
   "metadata": {},
   "outputs": [],
   "source": [
    "model_smote = LogisticRegression(solver='lbfgs', random_state=4)\n",
    "\n",
    "model_smote.fit(X_resampled_smote, y_resampled_smote)\n",
    "\n",
    "y_pred_smote = model_smote.predict(X_test)"
   ]
  },
  {
   "cell_type": "markdown",
   "metadata": {},
   "source": [
    "### Performance metrics\n",
    "\n",
    "Balanced Accuracy score"
   ]
  },
  {
   "cell_type": "code",
   "execution_count": 69,
   "metadata": {},
   "outputs": [
    {
     "data": {
      "text/plain": [
       "0.9948279972279972"
      ]
     },
     "execution_count": 69,
     "metadata": {},
     "output_type": "execute_result"
    }
   ],
   "source": [
    "\n",
    "balanced_accuracy_score(y_test, y_pred_smote)"
   ]
  },
  {
   "cell_type": "markdown",
   "metadata": {},
   "source": [
    "Confusion matrix"
   ]
  },
  {
   "cell_type": "code",
   "execution_count": 61,
   "metadata": {},
   "outputs": [
    {
     "data": {
      "text/plain": [
       "array([[  622,     3],\n",
       "       [  104, 18655]], dtype=int64)"
      ]
     },
     "execution_count": 61,
     "metadata": {},
     "output_type": "execute_result"
    }
   ],
   "source": [
    "confusion_matrix(y_test, y_pred_smote)"
   ]
  },
  {
   "cell_type": "markdown",
   "metadata": {},
   "source": [
    "Imbalanced classification report"
   ]
  },
  {
   "cell_type": "code",
   "execution_count": 27,
   "metadata": {},
   "outputs": [
    {
     "name": "stdout",
     "output_type": "stream",
     "text": [
      "                   pre       rec       spe        f1       geo       iba       sup\n",
      "\n",
      "  high_risk       0.86      1.00      0.99      0.92      0.99      0.99       625\n",
      "   low_risk       1.00      0.99      1.00      1.00      0.99      0.99     18759\n",
      "\n",
      "avg / total       1.00      0.99      1.00      0.99      0.99      0.99     19384\n",
      "\n"
     ]
    }
   ],
   "source": [
    "\n",
    "print(classification_report_imbalanced(y_test, y_pred_smote))"
   ]
  },
  {
   "cell_type": "markdown",
   "metadata": {},
   "source": [
    "# Undersampling\n",
    "\n",
    "In this section, we will test an undersampling algorithm to determine which algorithm results in the best performance compared to the oversampling algorithms above. You will undersample the data using the Cluster Centroids algorithm and complete the folliowing steps:\n",
    "\n",
    "Let's resample the data using the ClusterCentroids resampler"
   ]
  },
  {
   "cell_type": "code",
   "execution_count": 66,
   "metadata": {},
   "outputs": [
    {
     "data": {
      "text/plain": [
       "Counter({'high_risk': 1875, 'low_risk': 1875})"
      ]
     },
     "execution_count": 66,
     "metadata": {},
     "output_type": "execute_result"
    }
   ],
   "source": [
    "cc = ClusterCentroids(random_state=5)\n",
    "\n",
    "X_resampled_cc, y_resampled_cc = cc.fit_resample(X_train, y_train)\n",
    "\n",
    "Counter(y_resampled_cc)"
   ]
  },
  {
   "cell_type": "markdown",
   "metadata": {},
   "source": [
    "Let's train the Logistic Regression model using the resampled data"
   ]
  },
  {
   "cell_type": "code",
   "execution_count": 67,
   "metadata": {},
   "outputs": [],
   "source": [
    "model_cc = LogisticRegression(solver='lbfgs', random_state=1)\n",
    "\n",
    "model_cc.fit(X_resampled_cc, y_resampled_cc)\n",
    "\n",
    "y_pred_cc=model_cc.predict(X_test)"
   ]
  },
  {
   "cell_type": "markdown",
   "metadata": {},
   "source": [
    "### Performance metrics\n",
    "\n",
    "Balanced accuracy score"
   ]
  },
  {
   "cell_type": "code",
   "execution_count": 70,
   "metadata": {},
   "outputs": [
    {
     "data": {
      "text/plain": [
       "0.9836813049736126"
      ]
     },
     "execution_count": 70,
     "metadata": {},
     "output_type": "execute_result"
    }
   ],
   "source": [
    "balanced_accuracy_score(y_test, y_pred_cc)"
   ]
  },
  {
   "cell_type": "markdown",
   "metadata": {},
   "source": [
    "Confusion matrix"
   ]
  },
  {
   "cell_type": "code",
   "execution_count": 71,
   "metadata": {},
   "outputs": [
    {
     "data": {
      "text/plain": [
       "array([[  608,    17],\n",
       "       [  102, 18657]], dtype=int64)"
      ]
     },
     "execution_count": 71,
     "metadata": {},
     "output_type": "execute_result"
    }
   ],
   "source": [
    "confusion_matrix(y_test, y_pred_cc)"
   ]
  },
  {
   "cell_type": "markdown",
   "metadata": {},
   "source": [
    "Imbalanced classification report"
   ]
  },
  {
   "cell_type": "code",
   "execution_count": 72,
   "metadata": {},
   "outputs": [
    {
     "name": "stdout",
     "output_type": "stream",
     "text": [
      "                   pre       rec       spe        f1       geo       iba       sup\n",
      "\n",
      "  high_risk       0.86      0.97      0.99      0.91      0.98      0.97       625\n",
      "   low_risk       1.00      0.99      0.97      1.00      0.98      0.97     18759\n",
      "\n",
      "avg / total       0.99      0.99      0.97      0.99      0.98      0.97     19384\n",
      "\n"
     ]
    }
   ],
   "source": [
    "print(classification_report_imbalanced(y_test, y_pred_cc))"
   ]
  },
  {
   "cell_type": "markdown",
   "metadata": {},
   "source": [
    "# Combination (Over and Under) Sampling\n",
    "\n",
    "In this section, we will test a combination over- and under-sampling algorithm to determine if the algorithm results in the best performance compared to the other sampling algorithms above.\n",
    "\n",
    "Let's resample the training data with SMOTEENN"
   ]
  },
  {
   "cell_type": "code",
   "execution_count": 77,
   "metadata": {
    "tags": []
   },
   "outputs": [
    {
     "data": {
      "text/plain": [
       "Counter({'high_risk': 55299, 'low_risk': 55918})"
      ]
     },
     "execution_count": 77,
     "metadata": {},
     "output_type": "execute_result"
    }
   ],
   "source": [
    "sm = SMOTEENN(random_state=1)\n",
    "\n",
    "X_resampled_sm, y_resampled_sm = sm.fit_resample(X_train, y_train)\n",
    "\n",
    "Counter(y_resampled_sm)"
   ]
  },
  {
   "cell_type": "code",
   "execution_count": 78,
   "metadata": {},
   "outputs": [],
   "source": [
    "model_sm = LogisticRegression(solver='lbfgs', random_state=1)\n",
    "\n",
    "model_sm.fit(X_resampled_sm, y_resampled_sm)\n",
    "\n",
    "y_pred_smoteen = model_sm.predict(X_test)"
   ]
  },
  {
   "cell_type": "markdown",
   "metadata": {},
   "source": [
    "### Performance metrics \n",
    "\n",
    "Balanced accuracy score"
   ]
  },
  {
   "cell_type": "code",
   "execution_count": 79,
   "metadata": {},
   "outputs": [
    {
     "data": {
      "text/plain": [
       "0.994748035609574"
      ]
     },
     "execution_count": 79,
     "metadata": {},
     "output_type": "execute_result"
    }
   ],
   "source": [
    "\n",
    "balanced_accuracy_score(y_test, y_pred_smoteen)"
   ]
  },
  {
   "cell_type": "markdown",
   "metadata": {},
   "source": [
    "Confusion Matrix"
   ]
  },
  {
   "cell_type": "code",
   "execution_count": 36,
   "metadata": {},
   "outputs": [
    {
     "data": {
      "text/plain": [
       "array([[  622,     3],\n",
       "       [  107, 18652]], dtype=int64)"
      ]
     },
     "execution_count": 36,
     "metadata": {},
     "output_type": "execute_result"
    }
   ],
   "source": [
    "\n",
    "confusion_matrix(y_test, y_pred_smoteen)"
   ]
  },
  {
   "cell_type": "markdown",
   "metadata": {},
   "source": [
    "Imbalanced classification report"
   ]
  },
  {
   "cell_type": "code",
   "execution_count": 80,
   "metadata": {},
   "outputs": [
    {
     "name": "stdout",
     "output_type": "stream",
     "text": [
      "                   pre       rec       spe        f1       geo       iba       sup\n",
      "\n",
      "  high_risk       0.85      1.00      0.99      0.92      0.99      0.99       625\n",
      "   low_risk       1.00      0.99      1.00      1.00      0.99      0.99     18759\n",
      "\n",
      "avg / total       1.00      0.99      1.00      0.99      0.99      0.99     19384\n",
      "\n"
     ]
    }
   ],
   "source": [
    "print(classification_report_imbalanced(y_test, y_pred_smoteen))"
   ]
  },
  {
   "cell_type": "markdown",
   "metadata": {},
   "source": [
    "# Conclusions\n",
    "\n",
    "1. Which model had the best balanced accuracy score?\n",
    "\n",
    "- Although all models yielded relatively high balanced accurary scores (close to 1), the models with marginally highest (& equal) scores were the ones using oversampled data from SMOTE and Naive Random Sample techniques.\n",
    "\n",
    "2. Which model had the best recall score?\n",
    "\n",
    "- All models yield an average recall score of 0.99 which is great. The model with the highest recall score for \"high risk\" classifications was the model using oversampled and SMOTEEN sampled data, while the highest \n",
    "  recall for \"low risk\" classification was the simple logistic regression model using no resampled data.\n",
    "\n",
    "3. Which model had the best geometric mean score?\n",
    "\n",
    " -   The models with oversampled and SMOTEEN sampled datasets produced an excellent geometric mean score of 0.99.\n"
   ]
  },
  {
   "cell_type": "code",
   "execution_count": null,
   "metadata": {},
   "outputs": [],
   "source": []
  }
 ],
 "metadata": {
  "kernelspec": {
   "display_name": "Python 3",
   "language": "python",
   "name": "python3"
  },
  "language_info": {
   "codemirror_mode": {
    "name": "ipython",
    "version": 3
   },
   "file_extension": ".py",
   "mimetype": "text/x-python",
   "name": "python",
   "nbconvert_exporter": "python",
   "pygments_lexer": "ipython3",
   "version": "3.8.8"
  }
 },
 "nbformat": 4,
 "nbformat_minor": 4
}
